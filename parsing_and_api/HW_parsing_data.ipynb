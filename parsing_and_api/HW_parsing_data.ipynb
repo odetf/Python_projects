{
  "cells": [
    {
      "cell_type": "markdown",
      "metadata": {
        "id": "k9HYk24YYaM7"
      },
      "source": [
        "# Parsing data"
      ]
    },
    {
      "cell_type": "markdown",
      "metadata": {
        "id": "W22F-HYrYaNE"
      },
      "source": [
        "Загрузка ***[по ссылке](http://requests-world-bank.task-sss.krasilnikov.spb.ru/7cb3c7c270c0a64cb5d19dbe79e769c9)***, с помощью библиотеки requests файлов \"__Best countries 2019__\" и \"__Best countries 2020__\".\n",
        "\n",
        "Все столбцы необходимо привести к соответствующим типам:\n",
        "- Country - object\n",
        "- все остальные столбцы - int\n",
        "\n",
        "И отсортировать датафреймы по общему рейтингу (__Overall Rank__)"
      ]
    },
    {
      "cell_type": "code",
      "execution_count": null,
      "metadata": {
        "id": "ygc1h055YaNF"
      },
      "outputs": [],
      "source": [
        "import requests\n",
        "import pandas as pd\n",
        "import io\n",
        "\n",
        "def create_df(url):\n",
        "    csv_f = requests.get(url)\n",
        "    bytes = io.BytesIO()\n",
        "    bytes.write(csv_f.content)\n",
        "    bytes.seek(0)\n",
        "    df = pd.read_csv(bytes, sep=';')\n",
        "    df[['Overall Rank', 'Entrepreneurship', 'Adventure', 'Citizenship', 'Cultural Influence', 'Heritage', 'Movers', 'Open for Business', 'Power', 'Quality of Life']] = df[['Overall Rank', 'Entrepreneurship', 'Adventure', 'Citizenship', 'Cultural Influence', 'Heritage', 'Movers', 'Open for Business', 'Power', 'Quality of Life']].astype(int)\n",
        "    df.sort_values(\"Overall Rank\")\n",
        "    return df\n",
        "\n",
        "best_2019 = create_df('http://requests-world-bank.task-sss.krasilnikov.spb.ru/static/2019_s.csv?key=best_countries_2019')\n",
        "best_2020 = create_df('http://requests-world-bank.task-sss.krasilnikov.spb.ru/static/2020_s.csv?key=best_countries_2020')\n",
        "\n"
      ]
    },
    {
      "cell_type": "markdown",
      "metadata": {
        "id": "uc1o28D-YaNH"
      },
      "source": [
        "**Задание 2** (**2 балла**)\n",
        "\n",
        "Создание переменной __fb2020H__  со списком из 5 лучших стран по показателю __Heritage__ 2020 года.\n",
        "\n",
        "Создание переменной __fw2019QL__ со списком из 5 худших стран по показателю __Quality of Life__ 2019 года."
      ]
    },
    {
      "cell_type": "code",
      "execution_count": null,
      "metadata": {
        "pycharm": {
          "name": "#%%\n"
        },
        "id": "ZqAMbTtSYaNH"
      },
      "outputs": [],
      "source": [
        "fb2020H = best_2020.sort_values('Heritage').head(5)['Country'].to_list()\n",
        "fw2019QL = best_2019.sort_values('Quality of Life').tail(5)['Country'].to_list()"
      ]
    },
    {
      "cell_type": "markdown",
      "metadata": {
        "id": "gZXiQqacYaNI"
      },
      "source": [
        "Загрузка файла \"__World Development Indicators__\" для 10 стран. Создание датафрейма __ten_countries__ с объединенной информацией из полученных файлов"
      ]
    },
    {
      "cell_type": "code",
      "execution_count": null,
      "metadata": {
        "pycharm": {
          "name": "#%%\n"
        },
        "id": "taxkEsgOYaNI",
        "outputId": "95a4ecde-a21f-4263-892a-0e4b7a772ae6"
      },
      "outputs": [
        {
          "data": {
            "text/html": [
              "<div>\n",
              "<style scoped>\n",
              "    .dataframe tbody tr th:only-of-type {\n",
              "        vertical-align: middle;\n",
              "    }\n",
              "\n",
              "    .dataframe tbody tr th {\n",
              "        vertical-align: top;\n",
              "    }\n",
              "\n",
              "    .dataframe thead th {\n",
              "        text-align: right;\n",
              "    }\n",
              "</style>\n",
              "<table border=\"1\" class=\"dataframe\">\n",
              "  <thead>\n",
              "    <tr style=\"text-align: right;\">\n",
              "      <th></th>\n",
              "      <th>Series</th>\n",
              "      <th>Italy</th>\n",
              "      <th>Spain</th>\n",
              "      <th>Greece</th>\n",
              "      <th>France</th>\n",
              "      <th>Mexico</th>\n",
              "      <th>Pakistan</th>\n",
              "      <th>Nigeria</th>\n",
              "      <th>Angola</th>\n",
              "      <th>Jordan</th>\n",
              "      <th>Lebanon</th>\n",
              "    </tr>\n",
              "  </thead>\n",
              "  <tbody>\n",
              "    <tr>\n",
              "      <th>0</th>\n",
              "      <td>AG.AGR.TRAC.NO</td>\n",
              "      <td>NaN</td>\n",
              "      <td>NaN</td>\n",
              "      <td>NaN</td>\n",
              "      <td>NaN</td>\n",
              "      <td>NaN</td>\n",
              "      <td>NaN</td>\n",
              "      <td>NaN</td>\n",
              "      <td>NaN</td>\n",
              "      <td>NaN</td>\n",
              "      <td>NaN</td>\n",
              "    </tr>\n",
              "    <tr>\n",
              "      <th>1</th>\n",
              "      <td>AG.CON.FERT.PT.ZS</td>\n",
              "      <td>230.747598</td>\n",
              "      <td>114.592826</td>\n",
              "      <td>83.533155</td>\n",
              "      <td>386.227369</td>\n",
              "      <td>5.042637e+02</td>\n",
              "      <td>131.631587</td>\n",
              "      <td>91.410126</td>\n",
              "      <td>NaN</td>\n",
              "      <td>1.341468</td>\n",
              "      <td>34.363782</td>\n",
              "    </tr>\n",
              "    <tr>\n",
              "      <th>2</th>\n",
              "      <td>AG.CON.FERT.ZS</td>\n",
              "      <td>130.590510</td>\n",
              "      <td>157.698525</td>\n",
              "      <td>133.261780</td>\n",
              "      <td>172.679903</td>\n",
              "      <td>1.029283e+02</td>\n",
              "      <td>155.992657</td>\n",
              "      <td>19.737331</td>\n",
              "      <td>7.930094</td>\n",
              "      <td>114.044776</td>\n",
              "      <td>286.364848</td>\n",
              "    </tr>\n",
              "    <tr>\n",
              "      <th>3</th>\n",
              "      <td>AG.LND.AGRI.K2</td>\n",
              "      <td>124050.000000</td>\n",
              "      <td>261833.239000</td>\n",
              "      <td>61036.000000</td>\n",
              "      <td>286601.000000</td>\n",
              "      <td>1.068910e+06</td>\n",
              "      <td>363000.000000</td>\n",
              "      <td>691234.500000</td>\n",
              "      <td>569524.900000</td>\n",
              "      <td>10218.000000</td>\n",
              "      <td>6580.000000</td>\n",
              "    </tr>\n",
              "    <tr>\n",
              "      <th>4</th>\n",
              "      <td>AG.LND.AGRI.ZS</td>\n",
              "      <td>41.665267</td>\n",
              "      <td>52.408210</td>\n",
              "      <td>47.351435</td>\n",
              "      <td>52.341765</td>\n",
              "      <td>5.498650e+01</td>\n",
              "      <td>47.089041</td>\n",
              "      <td>75.895616</td>\n",
              "      <td>45.682594</td>\n",
              "      <td>11.509349</td>\n",
              "      <td>64.320626</td>\n",
              "    </tr>\n",
              "    <tr>\n",
              "      <th>...</th>\n",
              "      <td>...</td>\n",
              "      <td>...</td>\n",
              "      <td>...</td>\n",
              "      <td>...</td>\n",
              "      <td>...</td>\n",
              "      <td>...</td>\n",
              "      <td>...</td>\n",
              "      <td>...</td>\n",
              "      <td>...</td>\n",
              "      <td>...</td>\n",
              "      <td>...</td>\n",
              "    </tr>\n",
              "    <tr>\n",
              "      <th>1430</th>\n",
              "      <td>per_si_allsi.cov_q1_tot</td>\n",
              "      <td>NaN</td>\n",
              "      <td>NaN</td>\n",
              "      <td>NaN</td>\n",
              "      <td>NaN</td>\n",
              "      <td>4.619328e+00</td>\n",
              "      <td>NaN</td>\n",
              "      <td>NaN</td>\n",
              "      <td>NaN</td>\n",
              "      <td>NaN</td>\n",
              "      <td>NaN</td>\n",
              "    </tr>\n",
              "    <tr>\n",
              "      <th>1431</th>\n",
              "      <td>per_si_allsi.cov_q2_tot</td>\n",
              "      <td>NaN</td>\n",
              "      <td>NaN</td>\n",
              "      <td>NaN</td>\n",
              "      <td>NaN</td>\n",
              "      <td>9.351709e+00</td>\n",
              "      <td>NaN</td>\n",
              "      <td>NaN</td>\n",
              "      <td>NaN</td>\n",
              "      <td>NaN</td>\n",
              "      <td>NaN</td>\n",
              "    </tr>\n",
              "    <tr>\n",
              "      <th>1432</th>\n",
              "      <td>per_si_allsi.cov_q3_tot</td>\n",
              "      <td>NaN</td>\n",
              "      <td>NaN</td>\n",
              "      <td>NaN</td>\n",
              "      <td>NaN</td>\n",
              "      <td>1.414478e+01</td>\n",
              "      <td>NaN</td>\n",
              "      <td>NaN</td>\n",
              "      <td>NaN</td>\n",
              "      <td>NaN</td>\n",
              "      <td>NaN</td>\n",
              "    </tr>\n",
              "    <tr>\n",
              "      <th>1433</th>\n",
              "      <td>per_si_allsi.cov_q4_tot</td>\n",
              "      <td>NaN</td>\n",
              "      <td>NaN</td>\n",
              "      <td>NaN</td>\n",
              "      <td>NaN</td>\n",
              "      <td>1.749071e+01</td>\n",
              "      <td>NaN</td>\n",
              "      <td>NaN</td>\n",
              "      <td>NaN</td>\n",
              "      <td>NaN</td>\n",
              "      <td>NaN</td>\n",
              "    </tr>\n",
              "    <tr>\n",
              "      <th>1434</th>\n",
              "      <td>per_si_allsi.cov_q5_tot</td>\n",
              "      <td>NaN</td>\n",
              "      <td>NaN</td>\n",
              "      <td>NaN</td>\n",
              "      <td>NaN</td>\n",
              "      <td>2.367653e+01</td>\n",
              "      <td>NaN</td>\n",
              "      <td>NaN</td>\n",
              "      <td>NaN</td>\n",
              "      <td>NaN</td>\n",
              "      <td>NaN</td>\n",
              "    </tr>\n",
              "  </tbody>\n",
              "</table>\n",
              "<p>1435 rows × 11 columns</p>\n",
              "</div>"
            ],
            "text/plain": [
              "                       Series          Italy          Spain        Greece  \\\n",
              "0              AG.AGR.TRAC.NO            NaN            NaN           NaN   \n",
              "1           AG.CON.FERT.PT.ZS     230.747598     114.592826     83.533155   \n",
              "2              AG.CON.FERT.ZS     130.590510     157.698525    133.261780   \n",
              "3              AG.LND.AGRI.K2  124050.000000  261833.239000  61036.000000   \n",
              "4              AG.LND.AGRI.ZS      41.665267      52.408210     47.351435   \n",
              "...                       ...            ...            ...           ...   \n",
              "1430  per_si_allsi.cov_q1_tot            NaN            NaN           NaN   \n",
              "1431  per_si_allsi.cov_q2_tot            NaN            NaN           NaN   \n",
              "1432  per_si_allsi.cov_q3_tot            NaN            NaN           NaN   \n",
              "1433  per_si_allsi.cov_q4_tot            NaN            NaN           NaN   \n",
              "1434  per_si_allsi.cov_q5_tot            NaN            NaN           NaN   \n",
              "\n",
              "             France        Mexico       Pakistan        Nigeria  \\\n",
              "0               NaN           NaN            NaN            NaN   \n",
              "1        386.227369  5.042637e+02     131.631587      91.410126   \n",
              "2        172.679903  1.029283e+02     155.992657      19.737331   \n",
              "3     286601.000000  1.068910e+06  363000.000000  691234.500000   \n",
              "4         52.341765  5.498650e+01      47.089041      75.895616   \n",
              "...             ...           ...            ...            ...   \n",
              "1430            NaN  4.619328e+00            NaN            NaN   \n",
              "1431            NaN  9.351709e+00            NaN            NaN   \n",
              "1432            NaN  1.414478e+01            NaN            NaN   \n",
              "1433            NaN  1.749071e+01            NaN            NaN   \n",
              "1434            NaN  2.367653e+01            NaN            NaN   \n",
              "\n",
              "             Angola        Jordan      Lebanon  \n",
              "0               NaN           NaN          NaN  \n",
              "1               NaN      1.341468    34.363782  \n",
              "2          7.930094    114.044776   286.364848  \n",
              "3     569524.900000  10218.000000  6580.000000  \n",
              "4         45.682594     11.509349    64.320626  \n",
              "...             ...           ...          ...  \n",
              "1430            NaN           NaN          NaN  \n",
              "1431            NaN           NaN          NaN  \n",
              "1432            NaN           NaN          NaN  \n",
              "1433            NaN           NaN          NaN  \n",
              "1434            NaN           NaN          NaN  \n",
              "\n",
              "[1435 rows x 11 columns]"
            ]
          },
          "execution_count": 23,
          "metadata": {},
          "output_type": "execute_result"
        }
      ],
      "source": [
        "ten_counries_array = fb2020H + fw2019QL\n",
        "base_url = 'http://requests-world-bank.task-sss.krasilnikov.spb.ru/givememycsv/7cb3c7c270c0a64cb5d19dbe79e769c9/'\n",
        "def create_base_df():\n",
        "    url = base_url + ten_counries_array[0]\n",
        "    csv_f = requests.get(url)\n",
        "    bytes = io.BytesIO()\n",
        "    bytes.write(csv_f.content)\n",
        "    bytes.seek(0)\n",
        "    df = pd.read_csv(bytes, sep=';')\n",
        "    df.pop('Unnamed: 0')\n",
        "    abbr = list(df.columns.values)[1]\n",
        "    df.rename(columns={abbr: ten_counries_array[0]}, inplace=True)\n",
        "    return  df\n",
        "\n",
        "ten_countries = create_base_df()\n",
        "\n",
        "for i in ten_counries_array[1:]:\n",
        "    url = base_url + i\n",
        "    csv_f = requests.get(url)\n",
        "    bytes = io.BytesIO()\n",
        "    bytes.write(csv_f.content)\n",
        "    bytes.seek(0)\n",
        "    df = pd.read_csv(bytes, sep=';')\n",
        "    abbr = list(df.columns.values)[2]\n",
        "    ten_countries[i] = df[abbr]\n",
        "ten_countries\n"
      ]
    },
    {
      "cell_type": "markdown",
      "metadata": {
        "id": "iJnDaSpHYaNJ"
      },
      "source": [
        "Создание копии датафрейма __ten_countries__ под именем __ten_countries_full__ (датафрейм __ten_countries__ должен остаться неизменным). Поиск в датафрейме __ten_countries_full__ найдите индикатор c __индексом 5__ и подсчет для всех стран среднее, максимальное и минимальное значения этого индикатора\n"
      ]
    },
    {
      "cell_type": "code",
      "execution_count": null,
      "metadata": {
        "pycharm": {
          "name": "#%%\n"
        },
        "id": "N3xtzb6_YaNK"
      },
      "outputs": [],
      "source": [
        "ten_countries_full = ten_countries.copy()\n",
        "ten_countries_full = ten_countries_full.dropna()\n",
        "row_list = ten_countries_full.loc[5].to_list()\n",
        "nums_list = []\n",
        "for value in row_list:\n",
        "    try:\n",
        "        nums_list.append(float(value))\n",
        "    except:\n",
        "        continue\n",
        "avg_ind = sum(nums_list)/len(nums_list)\n",
        "min_ind = min(nums_list)\n",
        "max_ind = max(nums_list)"
      ]
    },
    {
      "cell_type": "markdown",
      "metadata": {
        "id": "W-q9A-TOYaNK"
      },
      "source": [
        "Сохранение данных в формате Excel"
      ]
    },
    {
      "cell_type": "code",
      "execution_count": null,
      "metadata": {
        "pycharm": {
          "name": "#%%\n"
        },
        "id": "fy3e0vOAYaNK"
      },
      "outputs": [],
      "source": [
        "with pd.ExcelWriter('ten_countries_full.xlsx') as writer:\n",
        "    ten_countries_full.to_excel(writer)\n"
      ]
    }
  ],
  "metadata": {
    "kernelspec": {
      "display_name": "Python 3",
      "language": "python",
      "name": "python3"
    },
    "language_info": {
      "codemirror_mode": {
        "name": "ipython",
        "version": 3
      },
      "file_extension": ".py",
      "mimetype": "text/x-python",
      "name": "python",
      "nbconvert_exporter": "python",
      "pygments_lexer": "ipython3",
      "version": "3.7.2"
    },
    "colab": {
      "provenance": []
    }
  },
  "nbformat": 4,
  "nbformat_minor": 0
}