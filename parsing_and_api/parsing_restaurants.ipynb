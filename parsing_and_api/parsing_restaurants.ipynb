{
  "cells": [
    {
      "cell_type": "markdown",
      "metadata": {
        "id": "VO2iN9EjUiuT"
      },
      "source": [
        "Анализ данных ресторанов"
      ]
    },
    {
      "cell_type": "code",
      "execution_count": null,
      "metadata": {
        "id": "de5h2J25Uiud"
      },
      "outputs": [],
      "source": [
        "import pandas as pd\n",
        "import requests as rq\n",
        "import re\n",
        "web1=rq.get('http://restaurants.task-sss.krasilnikov.spb.ru/60d2f1e9a5d618bdc95426f85848c724')\n",
        "web = web1.text"
      ]
    },
    {
      "cell_type": "markdown",
      "metadata": {
        "id": "rLcmvV_NUiuf"
      },
      "source": [
        "Создание датафрейма **restaurant**. Колонка **restaurant** заполняется названиями ресторанов: Lin's Vegetable Lamb Hotpot, PM & Vänner и т.д. Датафрейм сортируется по алфавиту от A до Z."
      ]
    },
    {
      "cell_type": "code",
      "execution_count": null,
      "metadata": {
        "id": "XE6rTB4EUiuf",
        "outputId": "c43f05f4-52c5-4d02-a5eb-e1ccf293f983"
      },
      "outputs": [
        {
          "data": {
            "text/html": [
              "<div>\n",
              "<style scoped>\n",
              "    .dataframe tbody tr th:only-of-type {\n",
              "        vertical-align: middle;\n",
              "    }\n",
              "\n",
              "    .dataframe tbody tr th {\n",
              "        vertical-align: top;\n",
              "    }\n",
              "\n",
              "    .dataframe thead th {\n",
              "        text-align: right;\n",
              "    }\n",
              "</style>\n",
              "<table border=\"1\" class=\"dataframe\">\n",
              "  <thead>\n",
              "    <tr style=\"text-align: right;\">\n",
              "      <th></th>\n",
              "      <th>address</th>\n",
              "    </tr>\n",
              "  </thead>\n",
              "  <tbody>\n",
              "    <tr>\n",
              "      <th>488</th>\n",
              "      <td>1 Jianguomenwai Street, Chaoyang, Beijing, Chi...</td>\n",
              "    </tr>\n",
              "    <tr>\n",
              "      <th>484</th>\n",
              "      <td>1 Shamian South Street, Guangzhou, China Mainland</td>\n",
              "    </tr>\n",
              "    <tr>\n",
              "      <th>125</th>\n",
              "      <td>1 avenue Louis-Gaume, Pyla-sur-Mer, 33115, France</td>\n",
              "    </tr>\n",
              "    <tr>\n",
              "      <th>466</th>\n",
              "      <td>1 rue de la Forêt, Dudelange, 3471, Luxembourg</td>\n",
              "    </tr>\n",
              "    <tr>\n",
              "      <th>197</th>\n",
              "      <td>1 rue des Remparts, La Chapelle-Taillefert, 23...</td>\n",
              "    </tr>\n",
              "    <tr>\n",
              "      <th>...</th>\n",
              "      <td>...</td>\n",
              "    </tr>\n",
              "    <tr>\n",
              "      <th>142</th>\n",
              "      <td>viale San Pancrazio 46, Taormina, 98039, Italy</td>\n",
              "    </tr>\n",
              "    <tr>\n",
              "      <th>402</th>\n",
              "      <td>viale delle Magnolie 120, Pallanza, 28922, Italy</td>\n",
              "    </tr>\n",
              "    <tr>\n",
              "      <th>361</th>\n",
              "      <td>vico Sergente Maggiore 8, Napoli, 80133, Italy</td>\n",
              "    </tr>\n",
              "    <tr>\n",
              "      <th>459</th>\n",
              "      <td>vicolo del Duomo 3, Bressanone, 39042, Italy</td>\n",
              "    </tr>\n",
              "    <tr>\n",
              "      <th>13</th>\n",
              "      <td>Ørjaveita 4, Trondheim, 7010, Norway</td>\n",
              "    </tr>\n",
              "  </tbody>\n",
              "</table>\n",
              "<p>500 rows × 1 columns</p>\n",
              "</div>"
            ],
            "text/plain": [
              "                                               address\n",
              "488  1 Jianguomenwai Street, Chaoyang, Beijing, Chi...\n",
              "484  1 Shamian South Street, Guangzhou, China Mainland\n",
              "125  1 avenue Louis-Gaume, Pyla-sur-Mer, 33115, France\n",
              "466     1 rue de la Forêt, Dudelange, 3471, Luxembourg\n",
              "197  1 rue des Remparts, La Chapelle-Taillefert, 23...\n",
              "..                                                 ...\n",
              "142     viale San Pancrazio 46, Taormina, 98039, Italy\n",
              "402   viale delle Magnolie 120, Pallanza, 28922, Italy\n",
              "361     vico Sergente Maggiore 8, Napoli, 80133, Italy\n",
              "459       vicolo del Duomo 3, Bressanone, 39042, Italy\n",
              "13                Ørjaveita 4, Trondheim, 7010, Norway\n",
              "\n",
              "[500 rows x 1 columns]"
            ]
          },
          "execution_count": 2,
          "metadata": {},
          "output_type": "execute_result"
        }
      ],
      "source": [
        "pattern1 = '\\n<div class=\"sprite address\"></div>\\n(.*?)\\n'\n",
        "b=re.findall(pattern1, web)\n",
        "address = pd.DataFrame(b)\n",
        "address= address.rename(columns={0: 'address'})\n",
        "address = address.sort_values('address')\n",
        "address"
      ]
    },
    {
      "cell_type": "markdown",
      "metadata": {
        "id": "CEqGAqaIUiug"
      },
      "source": [
        "Создание датафрейма **address**. Колонка **address** заполняется данными о местоположении ресторана. Датафрейм сортируется по алфавиту от A до Z."
      ]
    },
    {
      "cell_type": "code",
      "execution_count": null,
      "metadata": {
        "id": "Sr8d0EvfUiug",
        "outputId": "9e1343dd-56ca-443a-84b2-f57bed69fcb1"
      },
      "outputs": [
        {
          "data": {
            "text/html": [
              "<div>\n",
              "<style scoped>\n",
              "    .dataframe tbody tr th:only-of-type {\n",
              "        vertical-align: middle;\n",
              "    }\n",
              "\n",
              "    .dataframe tbody tr th {\n",
              "        vertical-align: top;\n",
              "    }\n",
              "\n",
              "    .dataframe thead th {\n",
              "        text-align: right;\n",
              "    }\n",
              "</style>\n",
              "<table border=\"1\" class=\"dataframe\">\n",
              "  <thead>\n",
              "    <tr style=\"text-align: right;\">\n",
              "      <th></th>\n",
              "      <th>address</th>\n",
              "    </tr>\n",
              "  </thead>\n",
              "  <tbody>\n",
              "    <tr>\n",
              "      <th>0</th>\n",
              "      <td>327 Jilin Road, Taipei, 104, Taiwan</td>\n",
              "    </tr>\n",
              "    <tr>\n",
              "      <th>1</th>\n",
              "      <td>Storgatan 22, Växjö, 352 31, Sweden</td>\n",
              "    </tr>\n",
              "    <tr>\n",
              "      <th>2</th>\n",
              "      <td>2 Na Wat Ket Soi 1 Road, Chiang Mai, Thailand</td>\n",
              "    </tr>\n",
              "    <tr>\n",
              "      <th>3</th>\n",
              "      <td>63, Section 2, Zhongshan North Road, Taipei, 1...</td>\n",
              "    </tr>\n",
              "    <tr>\n",
              "      <th>4</th>\n",
              "      <td>Next to East 2 Gate, Workers&amp;#x27; Sports Comp...</td>\n",
              "    </tr>\n",
              "    <tr>\n",
              "      <th>...</th>\n",
              "      <td>...</td>\n",
              "    </tr>\n",
              "    <tr>\n",
              "      <th>495</th>\n",
              "      <td>21 Rua Caetano, Coloane, Macau, Macao</td>\n",
              "    </tr>\n",
              "    <tr>\n",
              "      <th>496</th>\n",
              "      <td>via Ghibellina 87, Firenze, 50122, Italy</td>\n",
              "    </tr>\n",
              "    <tr>\n",
              "      <th>497</th>\n",
              "      <td>Pod zidom 5, Zagreb, 10000, Croatia</td>\n",
              "    </tr>\n",
              "    <tr>\n",
              "      <th>498</th>\n",
              "      <td>6F Boon the shop, 21 Apgujeong-ro 60-gil, Gang...</td>\n",
              "    </tr>\n",
              "    <tr>\n",
              "      <th>499</th>\n",
              "      <td>17, Lane 31, Section 2, Jinshan South Road, Ta...</td>\n",
              "    </tr>\n",
              "  </tbody>\n",
              "</table>\n",
              "<p>500 rows × 1 columns</p>\n",
              "</div>"
            ],
            "text/plain": [
              "                                               address\n",
              "0                  327 Jilin Road, Taipei, 104, Taiwan\n",
              "1                  Storgatan 22, Växjö, 352 31, Sweden\n",
              "2        2 Na Wat Ket Soi 1 Road, Chiang Mai, Thailand\n",
              "3    63, Section 2, Zhongshan North Road, Taipei, 1...\n",
              "4    Next to East 2 Gate, Workers&#x27; Sports Comp...\n",
              "..                                                 ...\n",
              "495              21 Rua Caetano, Coloane, Macau, Macao\n",
              "496           via Ghibellina 87, Firenze, 50122, Italy\n",
              "497                Pod zidom 5, Zagreb, 10000, Croatia\n",
              "498  6F Boon the shop, 21 Apgujeong-ro 60-gil, Gang...\n",
              "499  17, Lane 31, Section 2, Jinshan South Road, Ta...\n",
              "\n",
              "[500 rows x 1 columns]"
            ]
          },
          "execution_count": 3,
          "metadata": {},
          "output_type": "execute_result"
        }
      ],
      "source": [
        "pattern1 = '\\n<div class=\"sprite address\"></div>\\n(.*?)\\n'\n",
        "b=re.findall(pattern1, web)\n",
        "address = pd.DataFrame(b)\n",
        "address= address.rename(columns={0: 'address'})\n",
        "address\n"
      ]
    },
    {
      "cell_type": "markdown",
      "metadata": {
        "id": "TW4G4tHrUiug"
      },
      "source": [
        "Создание датафрейма **average_check**. Колонка **average_check** заполняется числовыми значения среднего чека: 1 - 1,2; 1 - 1,6 и т.д. Колонка **currency** заполняется данными о валюте, в которой представлены числовые значения: TWD, SEK и т.д. Датафрейм сортируется по колонке **currency** и **average_check** по алфавиту от A до Z."
      ]
    },
    {
      "cell_type": "code",
      "execution_count": null,
      "metadata": {
        "id": "SMk7P5RFUiuh"
      },
      "outputs": [],
      "source": [
        "block = [item.strip().split(\"\\n\") for item in re.findall('<i class=\"avg_hot_meal sprite\"></i>([\\s\\S]*?)</span', web)]\n",
        "\n",
        "average_check = [item[0] for item in block]\n",
        "currency = [item[1] for item in block]\n",
        "\n",
        "average_check = pd.DataFrame({\"average_check\": average_check, \"currency\": currency}) \\\n",
        ".sort_values([\"currency\", \"average_check\"]) \\\n",
        ".reset_index(drop=True)\n",
        "\n",
        "average_check"
      ]
    },
    {
      "cell_type": "markdown",
      "metadata": {
        "id": "jJ_Xz594Uiuh"
      },
      "source": [
        "Создание датафрейма **urls**. Колонка **urls** заполняется url ссылками, по которым доступна более подробная информация о ресторанах. Ссылки представлены в коде страницы в следующем виде: /name/Lin&#x27;s Vegetable Lamb Hotpot, /name/PM &amp; Vänner и т.д. Датафрейм сортируется по алфавиту от A до Z.\n",
        "\n",
        "*Примечание: более подробная информация о ресторанах доступна под кнопкой \"More about the place\".*"
      ]
    },
    {
      "cell_type": "code",
      "execution_count": null,
      "metadata": {
        "id": "lGZ2DaU8Uiui",
        "outputId": "58c7bc95-f25b-44ef-fd09-ec1f635cc470"
      },
      "outputs": [
        {
          "data": {
            "text/html": [
              "<div>\n",
              "<style scoped>\n",
              "    .dataframe tbody tr th:only-of-type {\n",
              "        vertical-align: middle;\n",
              "    }\n",
              "\n",
              "    .dataframe tbody tr th {\n",
              "        vertical-align: top;\n",
              "    }\n",
              "\n",
              "    .dataframe thead th {\n",
              "        text-align: right;\n",
              "    }\n",
              "</style>\n",
              "<table border=\"1\" class=\"dataframe\">\n",
              "  <thead>\n",
              "    <tr style=\"text-align: right;\">\n",
              "      <th></th>\n",
              "      <th>urls</th>\n",
              "    </tr>\n",
              "  </thead>\n",
              "  <tbody>\n",
              "    <tr>\n",
              "      <th>488</th>\n",
              "      <td>1 Jianguomenwai Street, Chaoyang, Beijing, Chi...</td>\n",
              "    </tr>\n",
              "    <tr>\n",
              "      <th>484</th>\n",
              "      <td>1 Shamian South Street, Guangzhou, China Mainland</td>\n",
              "    </tr>\n",
              "    <tr>\n",
              "      <th>125</th>\n",
              "      <td>1 avenue Louis-Gaume, Pyla-sur-Mer, 33115, France</td>\n",
              "    </tr>\n",
              "    <tr>\n",
              "      <th>466</th>\n",
              "      <td>1 rue de la Forêt, Dudelange, 3471, Luxembourg</td>\n",
              "    </tr>\n",
              "    <tr>\n",
              "      <th>197</th>\n",
              "      <td>1 rue des Remparts, La Chapelle-Taillefert, 23...</td>\n",
              "    </tr>\n",
              "    <tr>\n",
              "      <th>...</th>\n",
              "      <td>...</td>\n",
              "    </tr>\n",
              "    <tr>\n",
              "      <th>142</th>\n",
              "      <td>viale San Pancrazio 46, Taormina, 98039, Italy</td>\n",
              "    </tr>\n",
              "    <tr>\n",
              "      <th>402</th>\n",
              "      <td>viale delle Magnolie 120, Pallanza, 28922, Italy</td>\n",
              "    </tr>\n",
              "    <tr>\n",
              "      <th>361</th>\n",
              "      <td>vico Sergente Maggiore 8, Napoli, 80133, Italy</td>\n",
              "    </tr>\n",
              "    <tr>\n",
              "      <th>459</th>\n",
              "      <td>vicolo del Duomo 3, Bressanone, 39042, Italy</td>\n",
              "    </tr>\n",
              "    <tr>\n",
              "      <th>13</th>\n",
              "      <td>Ørjaveita 4, Trondheim, 7010, Norway</td>\n",
              "    </tr>\n",
              "  </tbody>\n",
              "</table>\n",
              "<p>500 rows × 1 columns</p>\n",
              "</div>"
            ],
            "text/plain": [
              "                                                  urls\n",
              "488  1 Jianguomenwai Street, Chaoyang, Beijing, Chi...\n",
              "484  1 Shamian South Street, Guangzhou, China Mainland\n",
              "125  1 avenue Louis-Gaume, Pyla-sur-Mer, 33115, France\n",
              "466     1 rue de la Forêt, Dudelange, 3471, Luxembourg\n",
              "197  1 rue des Remparts, La Chapelle-Taillefert, 23...\n",
              "..                                                 ...\n",
              "142     viale San Pancrazio 46, Taormina, 98039, Italy\n",
              "402   viale delle Magnolie 120, Pallanza, 28922, Italy\n",
              "361     vico Sergente Maggiore 8, Napoli, 80133, Italy\n",
              "459       vicolo del Duomo 3, Bressanone, 39042, Italy\n",
              "13                Ørjaveita 4, Trondheim, 7010, Norway\n",
              "\n",
              "[500 rows x 1 columns]"
            ]
          },
          "execution_count": 5,
          "metadata": {},
          "output_type": "execute_result"
        }
      ],
      "source": [
        "pattern4='\\n\\n\\n<div class=\"place_new\" id=\"place_3745\">\\n<a href=\"(.*?)\">\\n'\n",
        "c=re.findall(pattern4, web)\n",
        "urls = pd.DataFrame(b)\n",
        "urls= urls.rename(columns={0: 'urls'})\n",
        "urls=urls.sort_values('urls')\n",
        "urls"
      ]
    },
    {
      "cell_type": "markdown",
      "metadata": {
        "id": "7no4sxnpUiui"
      },
      "source": [
        "Замена в датафрейме **urls**, полученном в предыдущем задании, следующих элементов:\n",
        "\n",
        "\n",
        "Элемент | Замена\n",
        ":-----:|:-----:\n",
        "&amp;quot; | \"\n",
        "&amp;amp; | &\n",
        "&amp;#39; | '\n",
        "&amp;#x27; | '"
      ]
    },
    {
      "cell_type": "code",
      "execution_count": null,
      "metadata": {
        "id": "_P_hmg5-Uiui",
        "outputId": "2f1d0edd-ae90-4b23-ed33-016d6c18f806"
      },
      "outputs": [
        {
          "data": {
            "text/html": [
              "<div>\n",
              "<style scoped>\n",
              "    .dataframe tbody tr th:only-of-type {\n",
              "        vertical-align: middle;\n",
              "    }\n",
              "\n",
              "    .dataframe tbody tr th {\n",
              "        vertical-align: top;\n",
              "    }\n",
              "\n",
              "    .dataframe thead th {\n",
              "        text-align: right;\n",
              "    }\n",
              "</style>\n",
              "<table border=\"1\" class=\"dataframe\">\n",
              "  <thead>\n",
              "    <tr style=\"text-align: right;\">\n",
              "      <th></th>\n",
              "      <th>urls</th>\n",
              "    </tr>\n",
              "  </thead>\n",
              "  <tbody>\n",
              "    <tr>\n",
              "      <th>488</th>\n",
              "      <td>1 Jianguomenwai Street, Chaoyang, Beijing, Chi...</td>\n",
              "    </tr>\n",
              "    <tr>\n",
              "      <th>484</th>\n",
              "      <td>1 Shamian South Street, Guangzhou, China Mainland</td>\n",
              "    </tr>\n",
              "    <tr>\n",
              "      <th>125</th>\n",
              "      <td>1 avenue Louis-Gaume, Pyla-sur-Mer, 33115, France</td>\n",
              "    </tr>\n",
              "    <tr>\n",
              "      <th>466</th>\n",
              "      <td>1 rue de la Forêt, Dudelange, 3471, Luxembourg</td>\n",
              "    </tr>\n",
              "    <tr>\n",
              "      <th>197</th>\n",
              "      <td>1 rue des Remparts, La Chapelle-Taillefert, 23...</td>\n",
              "    </tr>\n",
              "    <tr>\n",
              "      <th>...</th>\n",
              "      <td>...</td>\n",
              "    </tr>\n",
              "    <tr>\n",
              "      <th>142</th>\n",
              "      <td>viale San Pancrazio 46, Taormina, 98039, Italy</td>\n",
              "    </tr>\n",
              "    <tr>\n",
              "      <th>402</th>\n",
              "      <td>viale delle Magnolie 120, Pallanza, 28922, Italy</td>\n",
              "    </tr>\n",
              "    <tr>\n",
              "      <th>361</th>\n",
              "      <td>vico Sergente Maggiore 8, Napoli, 80133, Italy</td>\n",
              "    </tr>\n",
              "    <tr>\n",
              "      <th>459</th>\n",
              "      <td>vicolo del Duomo 3, Bressanone, 39042, Italy</td>\n",
              "    </tr>\n",
              "    <tr>\n",
              "      <th>13</th>\n",
              "      <td>Ørjaveita 4, Trondheim, 7010, Norway</td>\n",
              "    </tr>\n",
              "  </tbody>\n",
              "</table>\n",
              "<p>500 rows × 1 columns</p>\n",
              "</div>"
            ],
            "text/plain": [
              "                                                  urls\n",
              "488  1 Jianguomenwai Street, Chaoyang, Beijing, Chi...\n",
              "484  1 Shamian South Street, Guangzhou, China Mainland\n",
              "125  1 avenue Louis-Gaume, Pyla-sur-Mer, 33115, France\n",
              "466     1 rue de la Forêt, Dudelange, 3471, Luxembourg\n",
              "197  1 rue des Remparts, La Chapelle-Taillefert, 23...\n",
              "..                                                 ...\n",
              "142     viale San Pancrazio 46, Taormina, 98039, Italy\n",
              "402   viale delle Magnolie 120, Pallanza, 28922, Italy\n",
              "361     vico Sergente Maggiore 8, Napoli, 80133, Italy\n",
              "459       vicolo del Duomo 3, Bressanone, 39042, Italy\n",
              "13                Ørjaveita 4, Trondheim, 7010, Norway\n",
              "\n",
              "[500 rows x 1 columns]"
            ]
          },
          "execution_count": 9,
          "metadata": {},
          "output_type": "execute_result"
        }
      ],
      "source": [
        "urls_new=urls.copy()\n",
        "urls_new=urls_new.replace('&quot;','\"', regex=True).replace('&amp;','&', regex=True).replace('&#39',\"'\", regex=True).replace('&#x27',\"'\", regex=True)\n",
        "urls_new"
      ]
    }
  ],
  "metadata": {
    "kernelspec": {
      "display_name": "Python 3",
      "language": "python",
      "name": "python3"
    },
    "language_info": {
      "codemirror_mode": {
        "name": "ipython",
        "version": 3
      },
      "file_extension": ".py",
      "mimetype": "text/x-python",
      "name": "python",
      "nbconvert_exporter": "python",
      "pygments_lexer": "ipython3",
      "version": "3.8.5"
    },
    "colab": {
      "provenance": []
    }
  },
  "nbformat": 4,
  "nbformat_minor": 0
}